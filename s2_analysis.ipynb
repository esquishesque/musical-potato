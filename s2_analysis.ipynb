{
 "cells": [
  {
   "cell_type": "code",
   "execution_count": 1,
   "metadata": {
    "collapsed": false,
    "scrolled": true
   },
   "outputs": [
    {
     "name": "stdout",
     "output_type": "stream",
     "text": [
      "Index(['Timestamp',\n",
      "       'Please choose your top 5 priority issues from the below list of financial issues:',\n",
      "       'I would not even consider voting yes on the next Collective Agreement without progress on:',\n",
      "       'Optional comments on financial priorities',\n",
      "       'Please choose your top 5 priority issues from the below list of non-financial issues:',\n",
      "       'I would not even consider voting yes on the next Collective Agreement without progress on:.1',\n",
      "       'Optional comments on non-financial priorities', 'I am a...',\n",
      "       'What kind(s) of Unit 1 work have you done? ',\n",
      "       'What department(s) have you done Unit 1 work in?',\n",
      "       'Which division(s) have you done Unit 1 work in?',\n",
      "       'Which campus(es) have you done Unit 1 work at?',\n",
      "       'I am a member of an equity-seeking group with respect to:'],\n",
      "      dtype='object')\n"
     ]
    }
   ],
   "source": [
    "import pandas as pd\n",
    "import scipy.stats as st \n",
    "import matplotlib.pyplot as plt\n",
    "import numpy as np\n",
    "df=pd.read_excel('survey2.xlsx')\n",
    "print(df.columns)\n",
    "Qs=['What kind(s) of Unit 1 work have you done? ','Which division(s) have you done Unit 1 work in?','I am a member of an equity-seeking group with respect to:']\n",
    "As=[['Teaching Assistant (TA) / Lab Demonstrator / Grader','Course Instructor (CI)','Chief Presiding Officer (CPO)','Assistant Invigilator','Accessibility/AccessAbility Invigilators','TATP'],\n",
    "['Humanities','Social sciences','Life sciences','Physical sciences / Engineering','Independent colleges / OISE / Other'],\n",
    "['Gender identity','Sexual identity','Racial/ethnic identity','Disability/accessibility','Other']\n",
    "   ]\n",
    "names=[['TA','CI','CPO','AI','Access','TATP'],['Humanities','Socsci','Lifesci','Physsci','Indie'],['Gender','Sexual','Racial','Disability','Other']]"
   ]
  },
  {
   "cell_type": "code",
   "execution_count": 2,
   "metadata": {
    "collapsed": false
   },
   "outputs": [],
   "source": [
    "def make_bar_plot_financial(df,title,output_name):\n",
    "    x=[]\n",
    "    for ii in range(0,df.shape[0]):\n",
    "        x.extend(df.iloc[ii][1].replace(', I',';I').replace(', Crea',';Crea').replace(', Red',';Red').split(';'))\n",
    "           \n",
    "    f=st.itemfreq(np.array(sorted(x,key=str.lower)))\n",
    "    ylabels=f[:,0]\n",
    "    data=f[:,1]\n",
    "    pct=np.array(data).astype(float)/np.sum(data.astype(float))*500.\n",
    "    \n",
    "    f0=plt.figure(figsize=(16,8))\n",
    "    ax=plt.subplot(111)\n",
    "    rects=plt.barh(range(len(data)),pct)\n",
    "    #autolabel(rects,ax,pct)\n",
    "    \n",
    "    plt.yticks(range(len(data)),ylabels)\n",
    "    plt.title(title+' n=~' + str(np.sum(data.astype(int))/5.))\n",
    "#    plt.tight_layout(rect=[0.1,0,1,1])\n",
    "    plt.gcf().subplots_adjust(left=.5)\n",
    "    plt.savefig(output_name)\n",
    "    plt.close(f0)\n",
    "plt.close()\n",
    "make_bar_plot_financial(df,'all','all_financial.png')\n"
   ]
  },
  {
   "cell_type": "code",
   "execution_count": 3,
   "metadata": {
    "collapsed": false
   },
   "outputs": [],
   "source": [
    "for ii in range(0,len(Qs)):\n",
    "    Q=Qs[ii]\n",
    "    for jj in range(0,len(As[ii])):\n",
    "        A=As[ii][jj]\n",
    "        n=names[ii][jj]\n",
    "        df2=df.ix[df[Q]==A]\n",
    "        make_bar_plot_financial(df2,n,n+'_financial.png')"
   ]
  },
  {
   "cell_type": "code",
   "execution_count": 4,
   "metadata": {
    "collapsed": false
   },
   "outputs": [],
   "source": [
    "def make_bar_plot_nonfinancial(df,title,output_name):\n",
    "    x=[]\n",
    "    for ii in range(0,df.shape[0]):\n",
    "        x.extend(df.iloc[ii][4].replace(', I',';I').replace(', A',';A').replace(', D',';D').replace(', P',';P').split(';'))\n",
    "           \n",
    "    f=st.itemfreq(np.array(sorted(x,key=str.lower)))\n",
    "    ylabels=f[:,0]\n",
    "    data=f[:,1]\n",
    "    pct=np.array(data).astype(float)/np.sum(data.astype(float))*500.\n",
    "    \n",
    "    f0=plt.figure(figsize=(16,8))\n",
    "    ax=plt.subplot(111)\n",
    "    rects=plt.barh(range(len(data)),pct)\n",
    "    \n",
    "    plt.yticks(range(len(data)),ylabels)\n",
    "    plt.title(title+' n=~' + str(np.sum(data.astype(int))/5.))\n",
    "    plt.gcf().subplots_adjust(left=.5)\n",
    "    plt.savefig(output_name)\n",
    "    plt.close(f0)\n",
    "make_bar_plot_nonfinancial(df,'all','all_nonfinancial.png')"
   ]
  },
  {
   "cell_type": "code",
   "execution_count": 5,
   "metadata": {
    "collapsed": false
   },
   "outputs": [],
   "source": [
    "for ii in range(0,len(Qs)):\n",
    "    Q=Qs[ii]\n",
    "    for jj in range(0,len(As[ii])):\n",
    "        A=As[ii][jj]\n",
    "        n=names[ii][jj]\n",
    "        df2=df.ix[df[Q]==A]\n",
    "        make_bar_plot_nonfinancial(df2,n,n+'_nonfinancial.png')"
   ]
  },
  {
   "cell_type": "code",
   "execution_count": 10,
   "metadata": {
    "collapsed": false
   },
   "outputs": [
    {
     "data": {
      "image/png": "[encoded data removed]",
      "text/plain": [
       "<matplotlib.figure.Figure at 0x7fe5a5fa21d0>"
      ]
     },
     "metadata": {},
     "output_type": "display_data"
    }
   ],
   "source": [
    "# some labels for each row\n",
    "people = ('A','B','C','D','E','F','G','H')\n",
    "r = len(people)\n",
    "\n",
    "# how many data points overall (average of 3 per person)\n",
    "n = r * 3\n",
    "\n",
    "# which person does each segment belong to?\n",
    "rows = np.random.randint(0, r, (n,))\n",
    "# how wide is the segment?\n",
    "widths = np.random.randint(3,12, n,)\n",
    "# what label to put on the segment\n",
    "labels = range(n)\n",
    "colors ='rgbwmc'\n",
    "\n",
    "patch_handles = []\n",
    "\n",
    "fig = plt.figure(figsize=(10,8))\n",
    "ax = fig.add_subplot(111)\n",
    "\n",
    "\n",
    "\n",
    "left = np.zeros(r,)\n",
    "row_counts = np.zeros(r,)\n",
    "\n",
    "for (r, w, l) in zip(rows, widths, labels):\n",
    "#    print r, w, l\n",
    "    patch_handles.append(ax.barh(r, w, align='center', left=left[r],\n",
    "        color=colors[int(row_counts[r]) % len(colors)]))\n",
    "    left[r] += w\n",
    "    row_counts[r] += 1\n",
    "    # we know there is only one patch but could enumerate if expanded\n",
    "    patch = patch_handles[-1][0] \n",
    "    bl = patch.get_xy()\n",
    "    x = 0.5*patch.get_width() + bl[0]\n",
    "    y = 0.5*patch.get_height() + bl[1]\n",
    "    ax.text(x, y, \"%d%%\" % (l), ha='center',va='center')\n",
    "\n",
    "y_pos = np.arange(8)\n",
    "ax.set_yticks(y_pos)\n",
    "ax.set_yticklabels(people)\n",
    "ax.set_xlabel('Distance')\n",
    "\n",
    "plt.show()"
   ]
  },
  {
   "cell_type": "markdown",
   "metadata": {},
   "source": []
  }
 ],
 "metadata": {
  "kernelspec": {
   "display_name": "Python 3",
   "language": "python",
   "name": "python3"
  },
  "language_info": {
   "codemirror_mode": {
    "name": "ipython",
    "version": 3
   },
   "file_extension": ".py",
   "mimetype": "text/x-python",
   "name": "python",
   "nbconvert_exporter": "python",
   "pygments_lexer": "ipython3",
   "version": "3.6.0"
  }
 },
 "nbformat": 4,
 "nbformat_minor": 2
}
