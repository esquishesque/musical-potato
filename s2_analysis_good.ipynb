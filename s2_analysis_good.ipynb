{
 "cells": [
  {
   "cell_type": "code",
   "execution_count": 43,
   "metadata": {
    "collapsed": false,
    "scrolled": true
   },
   "outputs": [
    {
     "name": "stdout",
     "output_type": "stream",
     "text": [
      "Index(['Timestamp',\n",
      "       'Please choose your top 5 priority issues from the below list of financial issues:',\n",
      "       'I would not even consider voting yes on the next Collective Agreement without progress on:',\n",
      "       'Optional comments on financial priorities',\n",
      "       'Please choose your top 5 priority issues from the below list of non-financial issues:',\n",
      "       'I would not even consider voting yes on the next Collective Agreement without progress on:.1',\n",
      "       'Optional comments on non-financial priorities', 'I am a...',\n",
      "       'What kind(s) of Unit 1 work have you done? ',\n",
      "       'What department(s) have you done Unit 1 work in?',\n",
      "       'Which division(s) have you done Unit 1 work in?',\n",
      "       'Which campus(es) have you done Unit 1 work at?',\n",
      "       'I am a member of an equity-seeking group with respect to:'],\n",
      "      dtype='object')\n"
     ]
    }
   ],
   "source": [
    "import pandas as pd\n",
    "import scipy.stats as st \n",
    "import matplotlib.pyplot as plt\n",
    "import numpy as np\n",
    "df=pd.read_excel('survey2.xlsx')\n",
    "print(df.columns)\n",
    "Qs=['What kind(s) of Unit 1 work have you done? ','Which division(s) have you done Unit 1 work in?','I am a member of an equity-seeking group with respect to:']\n",
    "Titles=['kinds_of_work','divisions','Equity']\n",
    "names=[['TA','CI','CPO','AI','Access','TATP'],['Humanities','Socsci','Physsci','Lifesci','Indie'],['Gender','Sexual','Racial','Disability','Other','Prefer','None']]\n",
    "A2=[['TA','CI','CPO','Invigilator','Invigilators','TATP'],['Humanities','Social','Physical','Life','Independent'],['Gender','Sexual','Racial','Disability','Other','Prefer','None']]\n"
   ]
  },
  {
   "cell_type": "code",
   "execution_count": 42,
   "metadata": {
    "collapsed": false
   },
   "outputs": [],
   "source": [
    "#print(df[df.columns[8]].value_counts())\n",
    "for ii in range(0,len(Qs)):\n",
    "    Q=Qs[ii]\n",
    "    data=[]\n",
    "    P=[]\n",
    "    Pl=[]\n",
    "    Pw=[]\n",
    "    Pwl=[]\n",
    "    height=0.35\n",
    "    fig=plt.figure(figsize=(16,16),dpi=100)\n",
    "    ax1=plt.subplot(211)\n",
    "    ax2=plt.subplot(212)r\n",
    "    for jj in range(0,len(A2[ii])):\n",
    "        x=[]\n",
    "        xw=[]\n",
    "        A=A2[ii][jj]#As[ii][jj]\n",
    "        df2=df[(df[Q].str.contains(A))]\n",
    "        for kk in range(0,df2.shape[0]):\n",
    "            x.extend(df2.iloc[kk][4].replace(', I',';I').replace(', A',';A').replace(', D',';D').replace(', P',';P').replace(', N',';N').split(';'))\n",
    "        f=st.itemfreq(np.array(sorted(x,key=str.lower)))\n",
    "        ylabels=f[:,0]\n",
    "        ind = np.arange(len(ylabels)) \n",
    "        xw=np.array(f[:,1]).astype(float)/np.sum(np.array(f[:,1]).astype(float))\n",
    "        x=np.array(f[:,1]).astype(float)#/np.sum(np.array(f[:,1]).astype(float))\n",
    "        if jj==0:\n",
    "            sw=np.zeros(np.shape(x))\n",
    "            s=np.zeros(np.shape(x))\n",
    "        P.append(ax1.barh(ind,x,height,left=s))\n",
    "        Pl.append(P[jj][0])\n",
    "        Pw.append(ax2.barh(ind,xw,height,left=sw))\n",
    "        Pwl.append(Pw[jj][0])\n",
    "        sw+=xw\n",
    "        s+=x\n",
    "    ax1.legend(Pl,(names[ii]))\n",
    "    ax1.set_yticks(ind)\n",
    "    ax1.set_yticklabels(ylabels)\n",
    "    ax2.legend(Pwl,(names[ii]))\n",
    "    ax2.set_yticks(ind)\n",
    "    ax2.set_yticklabels(ylabels)\n",
    "    plt.gcf().subplots_adjust(left=.5)\n",
    "    fig.savefig(Titles[ii]+'_non.png')\n",
    "#    plt.show()\n"
   ]
  },
  {
   "cell_type": "code",
   "execution_count": 41,
   "metadata": {
    "collapsed": true
   },
   "outputs": [],
   "source": [
    "#print(df[df.columns[8]].value_counts())\n",
    "for ii in range(0,len(Qs)):\n",
    "    Q=Qs[ii]\n",
    "    data=[]\n",
    "    P=[]\n",
    "    Pl=[]\n",
    "    Pw=[]\n",
    "    Pwl=[]\n",
    "    height=0.35\n",
    "    fig=plt.figure(figsize=(16,16),dpi=100)\n",
    "    ax1=plt.subplot(211)\n",
    "    ax2=plt.subplot(212)\n",
    "    for jj in range(0,len(A2[ii])):\n",
    "        x=[]\n",
    "        xw=[]\n",
    "        A=A2[ii][jj]#As[ii][jj]\n",
    "        df2=df[(df[Q].str.contains(A))]\n",
    "        for kk in range(0,df2.shape[0]):\n",
    "            x.extend(df2.iloc[kk][1].replace(', I',';I').replace(', Crea',';Crea').replace(', Red',';Red').split(';'))\n",
    "        f=st.itemfreq(np.array(sorted(x,key=str.lower)))\n",
    "        ylabels=f[:,0]\n",
    "        ind = np.arange(len(ylabels)) \n",
    "        xw=np.array(f[:,1]).astype(float)/np.sum(np.array(f[:,1]).astype(float))\n",
    "        x=np.array(f[:,1]).astype(float)#/np.sum(np.array(f[:,1]).astype(float))\n",
    "        if jj==0:\n",
    "            sw=np.zeros(np.shape(x))\n",
    "            s=np.zeros(np.shape(x))\n",
    "        P.append(ax1.barh(ind,x,height,left=s))\n",
    "        Pl.append(P[jj][0])\n",
    "        Pw.append(ax2.barh(ind,xw,height,left=sw))\n",
    "        Pwl.append(Pw[jj][0])\n",
    "        sw+=xw\n",
    "        s+=x\n",
    "    ax1.legend(Pl,(names[ii]))\n",
    "    ax1.set_yticks(ind)\n",
    "    ax1.set_yticklabels(ylabels)\n",
    "    ax2.legend(Pwl,(names[ii]))\n",
    "    ax2.set_yticks(ind)\n",
    "    ax2.set_yticklabels(ylabels)\n",
    "    plt.gcf().subplots_adjust(left=.5)\n",
    "    fig.savefig(Titles[ii]+'_fin.png')\n",
    "#    plt.show()\n"
   ]
  }
 ],
 "metadata": {
  "kernelspec": {
   "display_name": "Python 3",
   "language": "python",
   "name": "python3"
  },
  "language_info": {
   "codemirror_mode": {
    "name": "ipython",
    "version": 3
   },
   "file_extension": ".py",
   "mimetype": "text/x-python",
   "name": "python",
   "nbconvert_exporter": "python",
   "pygments_lexer": "ipython3",
   "version": "3.6.0"
  }
 },
 "nbformat": 4,
 "nbformat_minor": 2
}
